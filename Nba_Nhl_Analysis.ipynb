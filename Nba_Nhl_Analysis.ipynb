{
 "cells": [
  {
   "cell_type": "markdown",
   "metadata": {},
   "source": [
    "# Question 5: Why do underdogs do better in the NHL than the NBA?"
   ]
  },
  {
   "cell_type": "markdown",
   "metadata": {},
   "source": [
    "## Variance of Luck and Skill"
   ]
  },
  {
   "cell_type": "markdown",
   "metadata": {},
   "source": [
    "The reason why underdogs do better in the NBA compared to the NHL is because NBA winning outcomes rely more on skill compared to the NHL. Or other words, there is less of a contribution of luck to success in the NBA compared to the NHL. Consider the following statistical equation:\n",
    "\n",
    "Var(x+y)=var(x)+var(y), in which x and y are independent events\n",
    "\n",
    "In sporting events, this equation looks like this:\n",
    "\n",
    "Var(result)=var(skill)+var(luck)\n",
    "\n",
    "For this initial analysis, I studied the regular season winning percentage of all teams in both sports to represent the real-life “results”. In both sports, teams play 82 games in a normal season and the top 8 teams in two conferences compete in a 4-round playoff tournament to win the championship. If the outcome of the games were determined completely by luck, a win or loss would have 50% probability. In this study, the variance is the measure of the spread of magnitude of win-loss records in the league. The variance of luck will then depend on the number of games played in a season. Since both sports play the same number of games in a regular season, the variance of luck across both sports can be defined with the same binomial distribution along with some uncertainty.\n",
    "\n",
    "Bellow I presented the variance for each sport in recent seasons in which both sports played 82 games in a season:"
   ]
  },
  {
   "cell_type": "code",
   "execution_count": 1,
   "metadata": {},
   "outputs": [
    {
     "name": "stdout",
     "output_type": "stream",
     "text": [
      "Requirement already up-to-date: pandasql in c:\\programdata\\anaconda3\\lib\\site-packages (0.7.3)\n",
      "Requirement already satisfied, skipping upgrade: numpy in c:\\programdata\\anaconda3\\lib\\site-packages (from pandasql) (1.19.5)\n",
      "Requirement already satisfied, skipping upgrade: sqlalchemy in c:\\programdata\\anaconda3\\lib\\site-packages (from pandasql) (1.3.5)\n",
      "Requirement already satisfied, skipping upgrade: pandas in c:\\programdata\\anaconda3\\lib\\site-packages (from pandasql) (0.24.2)\n",
      "Requirement already satisfied, skipping upgrade: python-dateutil>=2.5.0 in c:\\programdata\\anaconda3\\lib\\site-packages (from pandas->pandasql) (2.8.0)\n",
      "Requirement already satisfied, skipping upgrade: pytz>=2011k in c:\\programdata\\anaconda3\\lib\\site-packages (from pandas->pandasql) (2019.1)\n",
      "Requirement already satisfied, skipping upgrade: six>=1.5 in c:\\programdata\\anaconda3\\lib\\site-packages (from python-dateutil>=2.5.0->pandas->pandasql) (1.15.0)\n",
      "Note: you may need to restart the kernel to use updated packages.\n"
     ]
    }
   ],
   "source": [
    "pip install -U pandasql"
   ]
  },
  {
   "cell_type": "code",
   "execution_count": 2,
   "metadata": {},
   "outputs": [],
   "source": [
    "# Install and import packages:\n",
    "import pandas as pd\n",
    "import numpy as np\n",
    "from pandasql import sqldf\n",
    "pyqldf = lambda q: sqldf(q, globals())\n",
    "import warnings\n",
    "warnings.filterwarnings('ignore')"
   ]
  },
  {
   "cell_type": "code",
   "execution_count": 3,
   "metadata": {},
   "outputs": [],
   "source": [
    "# Note: All but one dataset in this notebook was downloaded from kaggle.com's publically available data\n",
    "# The dataframe not created from kaggle.com's data was scraped using pandas.\n",
    "\n",
    "# Import relevent data for analysis:\n",
    "# NBA game data from 2000-2018:\n",
    "nba_data=pd.read_csv(\"data/nba_team_stats_00_to_18.csv\")\n",
    "nba_data = nba_data.rename(columns={'WIN%': 'WIN_P'})\n",
    "nba_data['WIN_P']*=100\n",
    "# NHL game,team data from 2000-2020:\n",
    "nhl_game=pd.read_csv(\"data/game.csv\")\n",
    "nhl_team=pd.read_csv(\"data/team_info.csv\")\n",
    "nhl_team_stats=pd.read_csv(\"data/game_teams_stats.csv\")\n",
    "nhl_team_stats['won'] = nhl_team_stats['won'].map({True: 1, False: 0})"
   ]
  },
  {
   "cell_type": "code",
   "execution_count": 4,
   "metadata": {},
   "outputs": [],
   "source": [
    "# Conditions for analysis:\n",
    "# Only look at nba and nhl seasons with 82 games\n",
    "# NHL:remove 2004-05 and 2012-13 due to lockout\n",
    "# NBA:remove 2011-12 due to lockout\n",
    "# NBA and NHL: remove any seasons that arnt present in both datasets"
   ]
  },
  {
   "cell_type": "code",
   "execution_count": 5,
   "metadata": {},
   "outputs": [
    {
     "data": {
      "text/html": [
       "<div>\n",
       "<style scoped>\n",
       "    .dataframe tbody tr th:only-of-type {\n",
       "        vertical-align: middle;\n",
       "    }\n",
       "\n",
       "    .dataframe tbody tr th {\n",
       "        vertical-align: top;\n",
       "    }\n",
       "\n",
       "    .dataframe thead th {\n",
       "        text-align: right;\n",
       "    }\n",
       "</style>\n",
       "<table border=\"1\" class=\"dataframe\">\n",
       "  <thead>\n",
       "    <tr style=\"text-align: right;\">\n",
       "      <th></th>\n",
       "      <th>Team</th>\n",
       "      <th>Year</th>\n",
       "      <th>Win_Percentage</th>\n",
       "    </tr>\n",
       "  </thead>\n",
       "  <tbody>\n",
       "    <tr>\n",
       "      <th>0</th>\n",
       "      <td>Atlanta Hawks</td>\n",
       "      <td>2000-01</td>\n",
       "      <td>30.5</td>\n",
       "    </tr>\n",
       "    <tr>\n",
       "      <th>1</th>\n",
       "      <td>Boston Celtics</td>\n",
       "      <td>2000-01</td>\n",
       "      <td>43.9</td>\n",
       "    </tr>\n",
       "    <tr>\n",
       "      <th>2</th>\n",
       "      <td>Charlotte Hornets</td>\n",
       "      <td>2000-01</td>\n",
       "      <td>56.1</td>\n",
       "    </tr>\n",
       "    <tr>\n",
       "      <th>3</th>\n",
       "      <td>Chicago Bulls</td>\n",
       "      <td>2000-01</td>\n",
       "      <td>18.3</td>\n",
       "    </tr>\n",
       "    <tr>\n",
       "      <th>4</th>\n",
       "      <td>Cleveland Cavaliers</td>\n",
       "      <td>2000-01</td>\n",
       "      <td>36.6</td>\n",
       "    </tr>\n",
       "  </tbody>\n",
       "</table>\n",
       "</div>"
      ],
      "text/plain": [
       "                  Team     Year  Win_Percentage\n",
       "0        Atlanta Hawks  2000-01            30.5\n",
       "1       Boston Celtics  2000-01            43.9\n",
       "2    Charlotte Hornets  2000-01            56.1\n",
       "3        Chicago Bulls  2000-01            18.3\n",
       "4  Cleveland Cavaliers  2000-01            36.6"
      ]
     },
     "execution_count": 5,
     "metadata": {},
     "output_type": "execute_result"
    }
   ],
   "source": [
    "# 1 NBA:\n",
    "# This query shows the winning record for all teams in the seasons selected\n",
    "q_nba = \"\"\"SELECT TEAM AS Team,\n",
    "SEASON AS Year,\n",
    "WIN_P AS Win_Percentage\n",
    "FROM nba_data\n",
    "WHERE SEASON <>'2004-05'\n",
    "AND SEASON <>'2011-12'\n",
    "AND SEASON <>'2012-13'\n",
    "AND SEASON <>'2018-19'\n",
    "GROUP BY Team,Year\n",
    "ORDER BY Year\n",
    ";\"\"\"\n",
    "sql_nba= pyqldf(q_nba)\n",
    "sql_nba.head()"
   ]
  },
  {
   "cell_type": "code",
   "execution_count": 6,
   "metadata": {},
   "outputs": [
    {
     "data": {
      "text/html": [
       "<div>\n",
       "<style scoped>\n",
       "    .dataframe tbody tr th:only-of-type {\n",
       "        vertical-align: middle;\n",
       "    }\n",
       "\n",
       "    .dataframe tbody tr th {\n",
       "        vertical-align: top;\n",
       "    }\n",
       "\n",
       "    .dataframe thead th {\n",
       "        text-align: right;\n",
       "    }\n",
       "</style>\n",
       "<table border=\"1\" class=\"dataframe\">\n",
       "  <thead>\n",
       "    <tr style=\"text-align: right;\">\n",
       "      <th></th>\n",
       "      <th>Year</th>\n",
       "      <th>Variance</th>\n",
       "    </tr>\n",
       "  </thead>\n",
       "  <tbody>\n",
       "    <tr>\n",
       "      <th>0</th>\n",
       "      <td>2000-01</td>\n",
       "      <td>246.989631</td>\n",
       "    </tr>\n",
       "    <tr>\n",
       "      <th>1</th>\n",
       "      <td>2001-02</td>\n",
       "      <td>190.458571</td>\n",
       "    </tr>\n",
       "    <tr>\n",
       "      <th>2</th>\n",
       "      <td>2002-03</td>\n",
       "      <td>207.942857</td>\n",
       "    </tr>\n",
       "    <tr>\n",
       "      <th>3</th>\n",
       "      <td>2003-04</td>\n",
       "      <td>185.194951</td>\n",
       "    </tr>\n",
       "    <tr>\n",
       "      <th>4</th>\n",
       "      <td>2005-06</td>\n",
       "      <td>185.844828</td>\n",
       "    </tr>\n",
       "    <tr>\n",
       "      <th>5</th>\n",
       "      <td>2006-07</td>\n",
       "      <td>174.982402</td>\n",
       "    </tr>\n",
       "    <tr>\n",
       "      <th>6</th>\n",
       "      <td>2007-08</td>\n",
       "      <td>284.778954</td>\n",
       "    </tr>\n",
       "    <tr>\n",
       "      <th>7</th>\n",
       "      <td>2008-09</td>\n",
       "      <td>296.280931</td>\n",
       "    </tr>\n",
       "    <tr>\n",
       "      <th>8</th>\n",
       "      <td>2009-10</td>\n",
       "      <td>265.553437</td>\n",
       "    </tr>\n",
       "    <tr>\n",
       "      <th>9</th>\n",
       "      <td>2010-11</td>\n",
       "      <td>258.124138</td>\n",
       "    </tr>\n",
       "    <tr>\n",
       "      <th>10</th>\n",
       "      <td>2013-14</td>\n",
       "      <td>248.253437</td>\n",
       "    </tr>\n",
       "    <tr>\n",
       "      <th>11</th>\n",
       "      <td>2014-15</td>\n",
       "      <td>269.427230</td>\n",
       "    </tr>\n",
       "    <tr>\n",
       "      <th>12</th>\n",
       "      <td>2015-16</td>\n",
       "      <td>286.709207</td>\n",
       "    </tr>\n",
       "    <tr>\n",
       "      <th>13</th>\n",
       "      <td>2016-17</td>\n",
       "      <td>186.181023</td>\n",
       "    </tr>\n",
       "    <tr>\n",
       "      <th>14</th>\n",
       "      <td>2017-18</td>\n",
       "      <td>222.249655</td>\n",
       "    </tr>\n",
       "  </tbody>\n",
       "</table>\n",
       "</div>"
      ],
      "text/plain": [
       "       Year    Variance\n",
       "0   2000-01  246.989631\n",
       "1   2001-02  190.458571\n",
       "2   2002-03  207.942857\n",
       "3   2003-04  185.194951\n",
       "4   2005-06  185.844828\n",
       "5   2006-07  174.982402\n",
       "6   2007-08  284.778954\n",
       "7   2008-09  296.280931\n",
       "8   2009-10  265.553437\n",
       "9   2010-11  258.124138\n",
       "10  2013-14  248.253437\n",
       "11  2014-15  269.427230\n",
       "12  2015-16  286.709207\n",
       "13  2016-17  186.181023\n",
       "14  2017-18  222.249655"
      ]
     },
     "execution_count": 6,
     "metadata": {},
     "output_type": "execute_result"
    }
   ],
   "source": [
    "# Group by year and calculate variance for each year:\n",
    "nba_variance= sql_nba.groupby(['Year']).var().reset_index().rename(columns={'Win_Percentage': 'Variance'})\n",
    "nba_variance"
   ]
  },
  {
   "cell_type": "code",
   "execution_count": 7,
   "metadata": {},
   "outputs": [
    {
     "data": {
      "text/html": [
       "<div>\n",
       "<style scoped>\n",
       "    .dataframe tbody tr th:only-of-type {\n",
       "        vertical-align: middle;\n",
       "    }\n",
       "\n",
       "    .dataframe tbody tr th {\n",
       "        vertical-align: top;\n",
       "    }\n",
       "\n",
       "    .dataframe thead th {\n",
       "        text-align: right;\n",
       "    }\n",
       "</style>\n",
       "<table border=\"1\" class=\"dataframe\">\n",
       "  <thead>\n",
       "    <tr style=\"text-align: right;\">\n",
       "      <th></th>\n",
       "      <th>Team</th>\n",
       "      <th>Year</th>\n",
       "      <th>Won</th>\n",
       "    </tr>\n",
       "  </thead>\n",
       "  <tbody>\n",
       "    <tr>\n",
       "      <th>0</th>\n",
       "      <td>Flyers</td>\n",
       "      <td>20162017</td>\n",
       "      <td>0</td>\n",
       "    </tr>\n",
       "    <tr>\n",
       "      <th>1</th>\n",
       "      <td>Blackhawks</td>\n",
       "      <td>20162017</td>\n",
       "      <td>1</td>\n",
       "    </tr>\n",
       "    <tr>\n",
       "      <th>2</th>\n",
       "      <td>Sabres</td>\n",
       "      <td>20172018</td>\n",
       "      <td>0</td>\n",
       "    </tr>\n",
       "    <tr>\n",
       "      <th>3</th>\n",
       "      <td>Ducks</td>\n",
       "      <td>20172018</td>\n",
       "      <td>1</td>\n",
       "    </tr>\n",
       "    <tr>\n",
       "      <th>4</th>\n",
       "      <td>Avalanche</td>\n",
       "      <td>20152016</td>\n",
       "      <td>1</td>\n",
       "    </tr>\n",
       "  </tbody>\n",
       "</table>\n",
       "</div>"
      ],
      "text/plain": [
       "         Team      Year  Won\n",
       "0      Flyers  20162017    0\n",
       "1  Blackhawks  20162017    1\n",
       "2      Sabres  20172018    0\n",
       "3       Ducks  20172018    1\n",
       "4   Avalanche  20152016    1"
      ]
     },
     "execution_count": 7,
     "metadata": {},
     "output_type": "execute_result"
    }
   ],
   "source": [
    "# 2 NHL:\n",
    "# Join 3 datasets above to get desired data\n",
    "# This query shows the outcome of every game for all teams in the seasons selected\n",
    "q_combined_nhl = \"\"\"\n",
    "    SELECT t.teamName as Team,\n",
    "    g.season AS Year,\n",
    "    s.won AS Won\n",
    "    \n",
    "    FROM nhl_team_stats AS s\n",
    "    JOIN nhl_team AS t\n",
    "    ON s.team_id=t.team_id\n",
    "    \n",
    "    JOIN nhl_game AS g  \n",
    "    ON g.game_id = s.game_id\n",
    "    \n",
    "    WHERE g.type='R'\n",
    "    AND g.season <>20042005\n",
    "    AND g.season <>20112012\n",
    "    AND g.season <>20122013\n",
    "    AND g.season <>20182019\n",
    "    AND g.season <>20192020\n",
    "    AND g.season <>20202021  \n",
    ";\"\"\"\n",
    "sql_nhl_combined= pyqldf(q_combined_nhl)\n",
    "sql_nhl_combined.head()"
   ]
  },
  {
   "cell_type": "code",
   "execution_count": 8,
   "metadata": {},
   "outputs": [
    {
     "data": {
      "text/html": [
       "<div>\n",
       "<style scoped>\n",
       "    .dataframe tbody tr th:only-of-type {\n",
       "        vertical-align: middle;\n",
       "    }\n",
       "\n",
       "    .dataframe tbody tr th {\n",
       "        vertical-align: top;\n",
       "    }\n",
       "\n",
       "    .dataframe thead th {\n",
       "        text-align: right;\n",
       "    }\n",
       "</style>\n",
       "<table border=\"1\" class=\"dataframe\">\n",
       "  <thead>\n",
       "    <tr style=\"text-align: right;\">\n",
       "      <th></th>\n",
       "      <th>Team</th>\n",
       "      <th>Year</th>\n",
       "      <th>Wins</th>\n",
       "    </tr>\n",
       "  </thead>\n",
       "  <tbody>\n",
       "    <tr>\n",
       "      <th>0</th>\n",
       "      <td>Avalanche</td>\n",
       "      <td>20002001</td>\n",
       "      <td>52.0</td>\n",
       "    </tr>\n",
       "    <tr>\n",
       "      <th>1</th>\n",
       "      <td>Blackhawks</td>\n",
       "      <td>20002001</td>\n",
       "      <td>29.0</td>\n",
       "    </tr>\n",
       "    <tr>\n",
       "      <th>2</th>\n",
       "      <td>Blue Jackets</td>\n",
       "      <td>20002001</td>\n",
       "      <td>28.0</td>\n",
       "    </tr>\n",
       "    <tr>\n",
       "      <th>3</th>\n",
       "      <td>Blues</td>\n",
       "      <td>20002001</td>\n",
       "      <td>43.0</td>\n",
       "    </tr>\n",
       "    <tr>\n",
       "      <th>4</th>\n",
       "      <td>Bruins</td>\n",
       "      <td>20002001</td>\n",
       "      <td>36.0</td>\n",
       "    </tr>\n",
       "  </tbody>\n",
       "</table>\n",
       "</div>"
      ],
      "text/plain": [
       "           Team      Year  Wins\n",
       "0     Avalanche  20002001  52.0\n",
       "1    Blackhawks  20002001  29.0\n",
       "2  Blue Jackets  20002001  28.0\n",
       "3         Blues  20002001  43.0\n",
       "4        Bruins  20002001  36.0"
      ]
     },
     "execution_count": 8,
     "metadata": {},
     "output_type": "execute_result"
    }
   ],
   "source": [
    "# Sum the number of wins by team and year:\n",
    "q_nhl_wins = \"\"\"\n",
    "SELECT Team,\n",
    "Year,\n",
    "CAST (SUM(WON) AS REAL) AS Wins\n",
    "FROM sql_nhl_combined\n",
    "GROUP BY Team,Year\n",
    "ORDER BY Year\n",
    ";\"\"\"\n",
    "sql_nhl= pyqldf(q_nhl_wins)\n",
    "sql_nhl.head()"
   ]
  },
  {
   "cell_type": "code",
   "execution_count": 9,
   "metadata": {},
   "outputs": [],
   "source": [
    "# Get winning record as a percentage for the season (82 games):\n",
    "sql_nhl['Wins'] = sql_nhl['Wins'].div(82)\n",
    "sql_nhl['Wins']*=100"
   ]
  },
  {
   "cell_type": "code",
   "execution_count": 10,
   "metadata": {},
   "outputs": [
    {
     "data": {
      "text/html": [
       "<div>\n",
       "<style scoped>\n",
       "    .dataframe tbody tr th:only-of-type {\n",
       "        vertical-align: middle;\n",
       "    }\n",
       "\n",
       "    .dataframe tbody tr th {\n",
       "        vertical-align: top;\n",
       "    }\n",
       "\n",
       "    .dataframe thead th {\n",
       "        text-align: right;\n",
       "    }\n",
       "</style>\n",
       "<table border=\"1\" class=\"dataframe\">\n",
       "  <thead>\n",
       "    <tr style=\"text-align: right;\">\n",
       "      <th></th>\n",
       "      <th>Year</th>\n",
       "      <th>Variance</th>\n",
       "    </tr>\n",
       "  </thead>\n",
       "  <tbody>\n",
       "    <tr>\n",
       "      <th>0</th>\n",
       "      <td>2000-01</td>\n",
       "      <td>122.970044</td>\n",
       "    </tr>\n",
       "    <tr>\n",
       "      <th>1</th>\n",
       "      <td>2001-02</td>\n",
       "      <td>91.128365</td>\n",
       "    </tr>\n",
       "    <tr>\n",
       "      <th>2</th>\n",
       "      <td>2002-03</td>\n",
       "      <td>94.328431</td>\n",
       "    </tr>\n",
       "    <tr>\n",
       "      <th>3</th>\n",
       "      <td>2003-04</td>\n",
       "      <td>99.831108</td>\n",
       "    </tr>\n",
       "    <tr>\n",
       "      <th>4</th>\n",
       "      <td>2005-06</td>\n",
       "      <td>119.387064</td>\n",
       "    </tr>\n",
       "    <tr>\n",
       "      <th>5</th>\n",
       "      <td>2006-07</td>\n",
       "      <td>104.617531</td>\n",
       "    </tr>\n",
       "    <tr>\n",
       "      <th>6</th>\n",
       "      <td>2007-08</td>\n",
       "      <td>43.385505</td>\n",
       "    </tr>\n",
       "    <tr>\n",
       "      <th>7</th>\n",
       "      <td>2008-09</td>\n",
       "      <td>76.719522</td>\n",
       "    </tr>\n",
       "    <tr>\n",
       "      <th>8</th>\n",
       "      <td>2009-10</td>\n",
       "      <td>72.616874</td>\n",
       "    </tr>\n",
       "    <tr>\n",
       "      <th>9</th>\n",
       "      <td>2010-11</td>\n",
       "      <td>71.591212</td>\n",
       "    </tr>\n",
       "    <tr>\n",
       "      <th>10</th>\n",
       "      <td>2013-14</td>\n",
       "      <td>94.566042</td>\n",
       "    </tr>\n",
       "    <tr>\n",
       "      <th>11</th>\n",
       "      <td>2014-15</td>\n",
       "      <td>105.335494</td>\n",
       "    </tr>\n",
       "    <tr>\n",
       "      <th>12</th>\n",
       "      <td>2015-16</td>\n",
       "      <td>65.129541</td>\n",
       "    </tr>\n",
       "    <tr>\n",
       "      <th>13</th>\n",
       "      <td>2016-17</td>\n",
       "      <td>89.950563</td>\n",
       "    </tr>\n",
       "    <tr>\n",
       "      <th>14</th>\n",
       "      <td>2017-18</td>\n",
       "      <td>100.832838</td>\n",
       "    </tr>\n",
       "  </tbody>\n",
       "</table>\n",
       "</div>"
      ],
      "text/plain": [
       "       Year    Variance\n",
       "0   2000-01  122.970044\n",
       "1   2001-02   91.128365\n",
       "2   2002-03   94.328431\n",
       "3   2003-04   99.831108\n",
       "4   2005-06  119.387064\n",
       "5   2006-07  104.617531\n",
       "6   2007-08   43.385505\n",
       "7   2008-09   76.719522\n",
       "8   2009-10   72.616874\n",
       "9   2010-11   71.591212\n",
       "10  2013-14   94.566042\n",
       "11  2014-15  105.335494\n",
       "12  2015-16   65.129541\n",
       "13  2016-17   89.950563\n",
       "14  2017-18  100.832838"
      ]
     },
     "execution_count": 10,
     "metadata": {},
     "output_type": "execute_result"
    }
   ],
   "source": [
    "# Group by year and calculate variance for each year:\n",
    "nhl_variance=sql_nhl.groupby(['Year']).var().reset_index().rename(columns={'Wins': 'Variance'})\n",
    "nhl_variance['Year'] = nhl_variance['Year'].astype(str)\n",
    "nhl_variance['Year'] = nhl_variance['Year'].str.replace('20', '-', 4).str.replace('-', '20', 1)\n",
    "nhl_variance"
   ]
  },
  {
   "cell_type": "code",
   "execution_count": 11,
   "metadata": {},
   "outputs": [
    {
     "data": {
      "text/html": [
       "<div>\n",
       "<style scoped>\n",
       "    .dataframe tbody tr th:only-of-type {\n",
       "        vertical-align: middle;\n",
       "    }\n",
       "\n",
       "    .dataframe tbody tr th {\n",
       "        vertical-align: top;\n",
       "    }\n",
       "\n",
       "    .dataframe thead th {\n",
       "        text-align: right;\n",
       "    }\n",
       "</style>\n",
       "<table border=\"1\" class=\"dataframe\">\n",
       "  <thead>\n",
       "    <tr style=\"text-align: right;\">\n",
       "      <th></th>\n",
       "      <th>Year</th>\n",
       "      <th>nba_variance</th>\n",
       "      <th>nhl_variance</th>\n",
       "    </tr>\n",
       "  </thead>\n",
       "  <tbody>\n",
       "    <tr>\n",
       "      <th>0</th>\n",
       "      <td>2000-01</td>\n",
       "      <td>246.989631</td>\n",
       "      <td>122.970044</td>\n",
       "    </tr>\n",
       "    <tr>\n",
       "      <th>1</th>\n",
       "      <td>2001-02</td>\n",
       "      <td>190.458571</td>\n",
       "      <td>91.128365</td>\n",
       "    </tr>\n",
       "    <tr>\n",
       "      <th>2</th>\n",
       "      <td>2002-03</td>\n",
       "      <td>207.942857</td>\n",
       "      <td>94.328431</td>\n",
       "    </tr>\n",
       "    <tr>\n",
       "      <th>3</th>\n",
       "      <td>2003-04</td>\n",
       "      <td>185.194951</td>\n",
       "      <td>99.831108</td>\n",
       "    </tr>\n",
       "    <tr>\n",
       "      <th>4</th>\n",
       "      <td>2005-06</td>\n",
       "      <td>185.844828</td>\n",
       "      <td>119.387064</td>\n",
       "    </tr>\n",
       "    <tr>\n",
       "      <th>5</th>\n",
       "      <td>2006-07</td>\n",
       "      <td>174.982402</td>\n",
       "      <td>104.617531</td>\n",
       "    </tr>\n",
       "    <tr>\n",
       "      <th>6</th>\n",
       "      <td>2007-08</td>\n",
       "      <td>284.778954</td>\n",
       "      <td>43.385505</td>\n",
       "    </tr>\n",
       "    <tr>\n",
       "      <th>7</th>\n",
       "      <td>2008-09</td>\n",
       "      <td>296.280931</td>\n",
       "      <td>76.719522</td>\n",
       "    </tr>\n",
       "    <tr>\n",
       "      <th>8</th>\n",
       "      <td>2009-10</td>\n",
       "      <td>265.553437</td>\n",
       "      <td>72.616874</td>\n",
       "    </tr>\n",
       "    <tr>\n",
       "      <th>9</th>\n",
       "      <td>2010-11</td>\n",
       "      <td>258.124138</td>\n",
       "      <td>71.591212</td>\n",
       "    </tr>\n",
       "    <tr>\n",
       "      <th>10</th>\n",
       "      <td>2013-14</td>\n",
       "      <td>248.253437</td>\n",
       "      <td>94.566042</td>\n",
       "    </tr>\n",
       "    <tr>\n",
       "      <th>11</th>\n",
       "      <td>2014-15</td>\n",
       "      <td>269.427230</td>\n",
       "      <td>105.335494</td>\n",
       "    </tr>\n",
       "    <tr>\n",
       "      <th>12</th>\n",
       "      <td>2015-16</td>\n",
       "      <td>286.709207</td>\n",
       "      <td>65.129541</td>\n",
       "    </tr>\n",
       "    <tr>\n",
       "      <th>13</th>\n",
       "      <td>2016-17</td>\n",
       "      <td>186.181023</td>\n",
       "      <td>89.950563</td>\n",
       "    </tr>\n",
       "    <tr>\n",
       "      <th>14</th>\n",
       "      <td>2017-18</td>\n",
       "      <td>222.249655</td>\n",
       "      <td>100.832838</td>\n",
       "    </tr>\n",
       "  </tbody>\n",
       "</table>\n",
       "</div>"
      ],
      "text/plain": [
       "       Year  nba_variance  nhl_variance\n",
       "0   2000-01    246.989631    122.970044\n",
       "1   2001-02    190.458571     91.128365\n",
       "2   2002-03    207.942857     94.328431\n",
       "3   2003-04    185.194951     99.831108\n",
       "4   2005-06    185.844828    119.387064\n",
       "5   2006-07    174.982402    104.617531\n",
       "6   2007-08    284.778954     43.385505\n",
       "7   2008-09    296.280931     76.719522\n",
       "8   2009-10    265.553437     72.616874\n",
       "9   2010-11    258.124138     71.591212\n",
       "10  2013-14    248.253437     94.566042\n",
       "11  2014-15    269.427230    105.335494\n",
       "12  2015-16    286.709207     65.129541\n",
       "13  2016-17    186.181023     89.950563\n",
       "14  2017-18    222.249655    100.832838"
      ]
     },
     "execution_count": 11,
     "metadata": {},
     "output_type": "execute_result"
    }
   ],
   "source": [
    "# Combine nba and nhl variances for each year into one dataframe:\n",
    "q_nba_nhl = \"\"\"\n",
    "SELECT nba.Year,\n",
    "nba.Variance AS nba_variance,\n",
    "nhl.Variance AS nhl_variance\n",
    "FROM nba_variance AS nba\n",
    "JOIN nhl_variance AS nhl\n",
    "ON nba.Year=nhl.Year\n",
    ";\"\"\"\n",
    "sql_nba_nhl= pyqldf(q_nba_nhl)\n",
    "sql_nba_nhl"
   ]
  },
  {
   "cell_type": "code",
   "execution_count": 12,
   "metadata": {},
   "outputs": [],
   "source": [
    "# Install visualization packages:\n",
    "import matplotlib as mpl\n",
    "import matplotlib.pyplot as plt\n",
    "import matplotlib.pylab as pylab\n",
    "import seaborn as sns"
   ]
  },
  {
   "cell_type": "code",
   "execution_count": 13,
   "metadata": {},
   "outputs": [],
   "source": [
    "# Configure visualization:\n",
    "%matplotlib inline\n",
    "mpl.style.use('ggplot')\n",
    "sns.set_style('white')\n",
    "pylab.rcParams['figure.figsize'] = 14,8"
   ]
  },
  {
   "cell_type": "code",
   "execution_count": 14,
   "metadata": {},
   "outputs": [
    {
     "data": {
      "image/png": "[encoded data removed]",
      "text/plain": [
       "<Figure size 1008x576 with 1 Axes>"
      ]
     },
     "metadata": {},
     "output_type": "display_data"
    }
   ],
   "source": [
    "# Plot NBA and NHL variance:\n",
    "plt.plot('Year', 'nba_variance', data=sql_nba_nhl, marker='', color='red', linewidth=2,label=\"nba\")\n",
    "plt.plot('Year', 'nhl_variance', data=sql_nba_nhl, marker='', color='blue', linewidth=2,label=\"nhl\")\n",
    "plt.xlabel('Year', fontsize = 14)\n",
    "plt.ylabel('Variance', fontsize = 14)\n",
    "plt.legend()\n",
    "plt.show()"
   ]
  },
  {
   "cell_type": "markdown",
   "metadata": {},
   "source": [
    "As shown, the variance of all teams’ winning percentage is greater in the NBA for every season studied. The average variance for all seasons studied is shown below:"
   ]
  },
  {
   "cell_type": "code",
   "execution_count": 15,
   "metadata": {},
   "outputs": [
    {
     "name": "stdout",
     "output_type": "stream",
     "text": [
      "The nba average variance is: 233.931\n",
      "The nhl average variance is: 90.159\n"
     ]
    }
   ],
   "source": [
    "# Average variance throughout seasons examined:\n",
    "nba_var_mean=round(sql_nba_nhl['nba_variance'].mean(),3)\n",
    "nhl_var_mean=round(sql_nba_nhl['nhl_variance'].mean(),3)\n",
    "print(f'The nba average variance is: {nba_var_mean}')\n",
    "print(f'The nhl average variance is: {nhl_var_mean}')      "
   ]
  },
  {
   "cell_type": "markdown",
   "metadata": {},
   "source": [
    "The var(skill) can be calculated by the following: \n",
    "\n",
    "Var(skill)= var(result)- var(luck)\n",
    "\n",
    "With the var(luck) defined by the same binomial distribution and a standard deviation in both sports, a greater var(result) equates to a the greater var(skill). A greater variance of skill means a win is more a result of skill rather than luck. This is demonstrated bellow with a binomial distribution tool simulating wins determined by 50% probability:"
   ]
  },
  {
   "cell_type": "code",
   "execution_count": 16,
   "metadata": {},
   "outputs": [],
   "source": [
    "# Create luck variance function:\n",
    "def var_luck(league,result_var_mean):\n",
    "    from statistics import mean\n",
    "    n, p = 82, 0.5  # Number of games played, probability of wining or lossing in a all luck world (50%)\n",
    "    var_list=[]\n",
    "    std_list=[]\n",
    "    \n",
    "    # 15 nba and nhl seasons were studied, so repeat this simulation 15 times:\n",
    "    for i in range(0,15):\n",
    "        # This represents the number of wins out out 82 games if the win is decided by a coin toss,\n",
    "        # For 30 seperate tests, 1 test per team for each team, 30 teams in the league during the seasons studied\n",
    "        \n",
    "        number_of_wins_season= np.random.binomial(n, p, 30)\n",
    "        # Calculate the win% and compute the variance and standard deviation:\n",
    "        var=((number_of_wins_season/82)*100).var()\n",
    "        std=((number_of_wins_season/82)*100).std()\n",
    "        var_list.append(var)\n",
    "        std_list.append(std)\n",
    "    # After appending variance for all 15 seasons, compute the average:\n",
    "    average_luck_var=mean(var_list)\n",
    "    average_luck_std=mean(std_list)\n",
    "    print(f'The average {league} luck variance is {round(average_luck_var,2)} with a standard deviation of {round(average_luck_std,2)}')\n",
    "    print(f'Therefore the average contribution of luck over these seasons is {round((average_luck_var/result_var_mean)*100,2)}%\\n')"
   ]
  },
  {
   "cell_type": "code",
   "execution_count": 17,
   "metadata": {},
   "outputs": [
    {
     "name": "stdout",
     "output_type": "stream",
     "text": [
      "The average nba luck variance is 29.87 with a standard deviation of 5.44\n",
      "Therefore the average contribution of luck over these seasons is 12.77%\n",
      "\n",
      "The average nhl luck variance is 28.63 with a standard deviation of 5.32\n",
      "Therefore the average contribution of luck over these seasons is 31.75%\n",
      "\n"
     ]
    }
   ],
   "source": [
    "# Call luck function for NBA and NHL:\n",
    "var_luck('nba',nba_var_mean)\n",
    "var_luck('nhl',nhl_var_mean)"
   ]
  },
  {
   "cell_type": "markdown",
   "metadata": {},
   "source": [
    "As shown, the average contribution of luck in the NBA is less than that of the NHL. Of course in any sport, teams want their success to involve as little luck as possible to repeat these results. A wider variance in winning record data also shows that there is a wider distribution of wins in the NBA compared to the NHL."
   ]
  },
  {
   "cell_type": "markdown",
   "metadata": {},
   "source": [
    "## Player Mintues"
   ]
  },
  {
   "cell_type": "markdown",
   "metadata": {},
   "source": [
    "To support this claim that skill is more important to success in the NBA, I looked at the individual star players to showcase the underlying differences in the nature of the sports themselves. Teams want to play their most skilled players as much possible in hockey, basketball, or any sport. However, because of the underlying gameplay speed in both sports, there is a noticeable difference in the skilled players minutes per game across the NBA and NHL. The NHL is a much faster paced game than the NBA, forcing star players to rest more frequently. Bellow I looked at the top 5 players by the average percentage of the total minutes of a game they played throughout the 2014-2015 season in both sports:"
   ]
  },
  {
   "cell_type": "code",
   "execution_count": 18,
   "metadata": {},
   "outputs": [],
   "source": [
    "# Import relevent data for analysis:\n",
    "\n",
    "# NBA player minutes in the 2014-2015 season:\n",
    "nba_player_min=pd.read_csv(\"data/nba_players_stats.csv\")\n",
    "nba_player_min = nba_player_min.rename(columns={'Games Played': 'Games_Played'})\n",
    "# Nhl player minutes in multiple seasons:\n",
    "nhl_player_min=pd.read_csv(\"data/nhl_player_data.csv\",engine='python')"
   ]
  },
  {
   "cell_type": "code",
   "execution_count": 19,
   "metadata": {},
   "outputs": [
    {
     "data": {
      "text/html": [
       "<div>\n",
       "<style scoped>\n",
       "    .dataframe tbody tr th:only-of-type {\n",
       "        vertical-align: middle;\n",
       "    }\n",
       "\n",
       "    .dataframe tbody tr th {\n",
       "        vertical-align: top;\n",
       "    }\n",
       "\n",
       "    .dataframe thead th {\n",
       "        text-align: right;\n",
       "    }\n",
       "</style>\n",
       "<table border=\"1\" class=\"dataframe\">\n",
       "  <thead>\n",
       "    <tr style=\"text-align: right;\">\n",
       "      <th></th>\n",
       "      <th>Athlete</th>\n",
       "      <th>Average_percent_of_game_played</th>\n",
       "    </tr>\n",
       "  </thead>\n",
       "  <tbody>\n",
       "    <tr>\n",
       "      <th>0</th>\n",
       "      <td>Jimmy Butler</td>\n",
       "      <td>79</td>\n",
       "    </tr>\n",
       "    <tr>\n",
       "      <th>1</th>\n",
       "      <td>Andrew Wiggins</td>\n",
       "      <td>75</td>\n",
       "    </tr>\n",
       "    <tr>\n",
       "      <th>2</th>\n",
       "      <td>Anthony Davis</td>\n",
       "      <td>75</td>\n",
       "    </tr>\n",
       "    <tr>\n",
       "      <th>3</th>\n",
       "      <td>James Harden</td>\n",
       "      <td>75</td>\n",
       "    </tr>\n",
       "    <tr>\n",
       "      <th>4</th>\n",
       "      <td>Kyrie Irving</td>\n",
       "      <td>75</td>\n",
       "    </tr>\n",
       "  </tbody>\n",
       "</table>\n",
       "</div>"
      ],
      "text/plain": [
       "          Athlete  Average_percent_of_game_played\n",
       "0    Jimmy Butler                              79\n",
       "1  Andrew Wiggins                              75\n",
       "2   Anthony Davis                              75\n",
       "3    James Harden                              75\n",
       "4    Kyrie Irving                              75"
      ]
     },
     "execution_count": 19,
     "metadata": {},
     "output_type": "execute_result"
    }
   ],
   "source": [
    "# 1 NBA:\n",
    "# This query takes the average mintues each player played in a season and calculates that percentage of a game \n",
    "# Presents the top 5 percentages\n",
    "# There are 48 mintues in a nba game\n",
    "# Looking at players that played more than 75% of the season (62 games)\n",
    "\n",
    "q_nba_min = \"\"\"SELECT Name AS Athlete,\n",
    "CAST((CAST((MIN/Games_Played)AS FLOAT)/48)*100 AS INT) AS Average_percent_of_game_played\n",
    "FROM nba_player_min\n",
    "WHERE Games_Played>62\n",
    "ORDER BY Average_percent_of_game_played DESC\n",
    "LIMIT 5\n",
    ";\"\"\"\n",
    "sql_nba_min= pyqldf(q_nba_min)\n",
    "sql_nba_min"
   ]
  },
  {
   "cell_type": "code",
   "execution_count": 20,
   "metadata": {},
   "outputs": [
    {
     "data": {
      "text/html": [
       "<div>\n",
       "<style scoped>\n",
       "    .dataframe tbody tr th:only-of-type {\n",
       "        vertical-align: middle;\n",
       "    }\n",
       "\n",
       "    .dataframe tbody tr th {\n",
       "        vertical-align: top;\n",
       "    }\n",
       "\n",
       "    .dataframe thead th {\n",
       "        text-align: right;\n",
       "    }\n",
       "</style>\n",
       "<table border=\"1\" class=\"dataframe\">\n",
       "  <thead>\n",
       "    <tr style=\"text-align: right;\">\n",
       "      <th></th>\n",
       "      <th>Athlete</th>\n",
       "      <th>Average_percent_of_game_played</th>\n",
       "    </tr>\n",
       "  </thead>\n",
       "  <tbody>\n",
       "    <tr>\n",
       "      <th>0</th>\n",
       "      <td>Ryan Suter\\suterry01</td>\n",
       "      <td>48</td>\n",
       "    </tr>\n",
       "    <tr>\n",
       "      <th>1</th>\n",
       "      <td>Erik Karlsson\\karlser01</td>\n",
       "      <td>45</td>\n",
       "    </tr>\n",
       "    <tr>\n",
       "      <th>2</th>\n",
       "      <td>Shea Weber\\webersh01</td>\n",
       "      <td>43</td>\n",
       "    </tr>\n",
       "    <tr>\n",
       "      <th>3</th>\n",
       "      <td>Roman Josi\\josiro01</td>\n",
       "      <td>43</td>\n",
       "    </tr>\n",
       "    <tr>\n",
       "      <th>4</th>\n",
       "      <td>Brian Campbell\\campbbr02</td>\n",
       "      <td>43</td>\n",
       "    </tr>\n",
       "  </tbody>\n",
       "</table>\n",
       "</div>"
      ],
      "text/plain": [
       "                    Athlete  Average_percent_of_game_played\n",
       "0      Ryan Suter\\suterry01                              48\n",
       "1   Erik Karlsson\\karlser01                              45\n",
       "2      Shea Weber\\webersh01                              43\n",
       "3       Roman Josi\\josiro01                              43\n",
       "4  Brian Campbell\\campbbr02                              43"
      ]
     },
     "execution_count": 20,
     "metadata": {},
     "output_type": "execute_result"
    }
   ],
   "source": [
    "#2 NBA:\n",
    "# This query takes the average mintues each player played in a season and calculates that percentage of a game \n",
    "# Presents the top 5 percentages\n",
    "#There are 60 mintues in an nhl game\n",
    "#Looking at players that played more than 75% of the season (62 games) in the 2014-2015 season\n",
    "\n",
    "q_nhl_min = \"\"\"SELECT Player AS Athlete,\n",
    "CAST((CAST((TOI/GP)AS FLOAT)/60)*100 AS INT) AS Average_percent_of_game_played\n",
    "FROM nhl_player_min\n",
    "WHERE GP>62\n",
    "AND Season=2014\n",
    "ORDER BY Average_percent_of_game_played DESC\n",
    "LIMIT 5\n",
    ";\"\"\"\n",
    "sql_nhl_min= pyqldf(q_nhl_min)\n",
    "sql_nhl_min"
   ]
  },
  {
   "cell_type": "markdown",
   "metadata": {},
   "source": [
    "As shown, NBA players logged greater floor time that season (80%) compared to players in the NHL (50%). As such, these skilled players in the NBA have greater opportunities to affect the outcome of the game. In an ideal world, Lebron James would play the entire game and Wayne Gretzky would never leave the ice."
   ]
  },
  {
   "cell_type": "markdown",
   "metadata": {},
   "source": [
    "## Player Salary and Salary Cap"
   ]
  },
  {
   "cell_type": "markdown",
   "metadata": {},
   "source": [
    "Now that we’ve looked at the impact of skill on both a team and player level in both sports, we can see there is also a difference in the way the leagues are structured in building roasters. In all sports, the most skilled players are paid the highest salary. Of course this isn’t always true on a rolling basis as salaries are locked into contracts that extend multiple seasons and the current skilled player could change throughout seasons, but intuitively one can presume value is defined by performance/skill."
   ]
  },
  {
   "cell_type": "markdown",
   "metadata": {},
   "source": [
    "### Top 2 Salaries Over Multiple Seasons"
   ]
  },
  {
   "cell_type": "markdown",
   "metadata": {},
   "source": [
    "It is important to first understand what a salary cap means in both sports. The salary cap is the total amount that teams may pay for players. The amount set as the salary cap each year depends on the league’s revenue for the previous season. A league’s salary cap is the same for all teams each year.\n",
    "\n",
    "Bellow are the top 2 salaries throughout multiple years in the NBA and NHL:"
   ]
  },
  {
   "cell_type": "code",
   "execution_count": 21,
   "metadata": {},
   "outputs": [],
   "source": [
    "# Conditions for analysis:\n",
    "# Only look at nba and nhl seasons with 82 games\n",
    "# NHL:remove 2004-05 and 2012-13 due to lockout\n",
    "# NBA:remove 2011-12 due to lockout\n",
    "# NBA and NHL: remove any seasons that arnt present in both datasets"
   ]
  },
  {
   "cell_type": "code",
   "execution_count": 22,
   "metadata": {},
   "outputs": [],
   "source": [
    "# Import relevent data for analysis:\n",
    "\n",
    "# NBA player salaries from 2002-2017:\n",
    "nba_player_sal=pd.read_csv(\"data/NBASalaryData03-17.csv\")"
   ]
  },
  {
   "cell_type": "code",
   "execution_count": 23,
   "metadata": {},
   "outputs": [
    {
     "data": {
      "text/html": [
       "<div>\n",
       "<style scoped>\n",
       "    .dataframe tbody tr th:only-of-type {\n",
       "        vertical-align: middle;\n",
       "    }\n",
       "\n",
       "    .dataframe tbody tr th {\n",
       "        vertical-align: top;\n",
       "    }\n",
       "\n",
       "    .dataframe thead th {\n",
       "        text-align: right;\n",
       "    }\n",
       "</style>\n",
       "<table border=\"1\" class=\"dataframe\">\n",
       "  <thead>\n",
       "    <tr style=\"text-align: right;\">\n",
       "      <th></th>\n",
       "      <th>Athlete</th>\n",
       "      <th>Team</th>\n",
       "      <th>Salary</th>\n",
       "      <th>Year</th>\n",
       "    </tr>\n",
       "  </thead>\n",
       "  <tbody>\n",
       "    <tr>\n",
       "      <th>0</th>\n",
       "      <td>Stephen Curry</td>\n",
       "      <td>Golden State Warriors</td>\n",
       "      <td>37457154.0</td>\n",
       "      <td>2017-2018</td>\n",
       "    </tr>\n",
       "    <tr>\n",
       "      <th>1</th>\n",
       "      <td>LeBron James</td>\n",
       "      <td>Cleveland Cavaliers</td>\n",
       "      <td>30963450.0</td>\n",
       "      <td>2016-2017</td>\n",
       "    </tr>\n",
       "  </tbody>\n",
       "</table>\n",
       "</div>"
      ],
      "text/plain": [
       "         Athlete                   Team      Salary       Year\n",
       "0  Stephen Curry  Golden State Warriors  37457154.0  2017-2018\n",
       "1   LeBron James    Cleveland Cavaliers  30963450.0  2016-2017"
      ]
     },
     "execution_count": 23,
     "metadata": {},
     "output_type": "execute_result"
    }
   ],
   "source": [
    "# 1 NBA:\n",
    "# This query shows the top 2 salaries in the seasons examined:\n",
    "q_nba_sal_max = \"\"\"SELECT Player AS Athlete,\n",
    "team AS Team,\n",
    "salary AS Salary,\n",
    "season AS Year\n",
    "FROM nba_player_sal\n",
    "WHERE season<>'2002-2003'\n",
    "AND season<>'2004-2005'\n",
    "AND season<>'2011-2012'\n",
    "AND season<>'2012-2013'\n",
    "GROUP BY season\n",
    "ORDER BY salary DESC\n",
    "LIMIT 2\n",
    ";\"\"\"\n",
    "sql_nba_sal_max= pyqldf(q_nba_sal_max)\n",
    "sql_nba_sal_max"
   ]
  },
  {
   "cell_type": "code",
   "execution_count": 24,
   "metadata": {},
   "outputs": [
    {
     "name": "stdout",
     "output_type": "stream",
     "text": [
      "1st highest player salary percentage of the salary cap in the NBA: 37.8%\n",
      "2st highest player salary percentage of the salary cap in the NBA: 32.9%\n"
     ]
    }
   ],
   "source": [
    "# Create a function to calculate a player's salary percentage of the salary cap that season:\n",
    "\n",
    "def sal_analysis_1(league,number,player_sal,cap):\n",
    "    percent_of_cap=player_sal/cap\n",
    "    print(f'{number}st highest player salary percentage of the salary cap in the {league}: {round(percent_of_cap*100,1)}%')\n",
    "    return\n",
    "\n",
    "# Call function and print results for highest paid player:\n",
    "sal_analysis_1('NBA',1,sql_nba_sal_max['Salary'][0],99093000) # Cap from https://basketball.realgm.com/nba/info/salary_cap \n",
    "\n",
    "# Call function and print results for second highest paid player:\n",
    "sal_analysis_1('NBA',2,sql_nba_sal_max['Salary'][1],94143000) #cap from https://basketball.realgm.com/nba/info/salary_cap  "
   ]
  },
  {
   "cell_type": "code",
   "execution_count": 25,
   "metadata": {},
   "outputs": [
    {
     "data": {
      "text/html": [
       "<div>\n",
       "<style scoped>\n",
       "    .dataframe tbody tr th:only-of-type {\n",
       "        vertical-align: middle;\n",
       "    }\n",
       "\n",
       "    .dataframe tbody tr th {\n",
       "        vertical-align: top;\n",
       "    }\n",
       "\n",
       "    .dataframe thead th {\n",
       "        text-align: right;\n",
       "    }\n",
       "</style>\n",
       "<table border=\"1\" class=\"dataframe\">\n",
       "  <thead>\n",
       "    <tr style=\"text-align: right;\">\n",
       "      <th></th>\n",
       "      <th>Player</th>\n",
       "      <th>NHL Salary ($US)</th>\n",
       "      <th>Year</th>\n",
       "    </tr>\n",
       "  </thead>\n",
       "  <tbody>\n",
       "    <tr>\n",
       "      <th>0</th>\n",
       "      <td>Jaromir Jagr</td>\n",
       "      <td>$11,000,000</td>\n",
       "      <td>2003-2004</td>\n",
       "    </tr>\n",
       "    <tr>\n",
       "      <th>1</th>\n",
       "      <td>Peter Forsberg</td>\n",
       "      <td>$11,000,000</td>\n",
       "      <td>2003-2004</td>\n",
       "    </tr>\n",
       "    <tr>\n",
       "      <th>2</th>\n",
       "      <td>Keith Tkachuk</td>\n",
       "      <td>$10,000,000</td>\n",
       "      <td>2003-2004</td>\n",
       "    </tr>\n",
       "    <tr>\n",
       "      <th>3</th>\n",
       "      <td>Nicklas Lidstrom</td>\n",
       "      <td>$10,000,000</td>\n",
       "      <td>2003-2004</td>\n",
       "    </tr>\n",
       "    <tr>\n",
       "      <th>4</th>\n",
       "      <td>Pavel Bure</td>\n",
       "      <td>$10,000,000</td>\n",
       "      <td>2003-2004</td>\n",
       "    </tr>\n",
       "  </tbody>\n",
       "</table>\n",
       "</div>"
      ],
      "text/plain": [
       "             Player NHL Salary ($US)       Year\n",
       "0      Jaromir Jagr      $11,000,000  2003-2004\n",
       "1    Peter Forsberg      $11,000,000  2003-2004\n",
       "2     Keith Tkachuk      $10,000,000  2003-2004\n",
       "3  Nicklas Lidstrom      $10,000,000  2003-2004\n",
       "4        Pavel Bure      $10,000,000  2003-2004"
      ]
     },
     "execution_count": 25,
     "metadata": {},
     "output_type": "execute_result"
    }
   ],
   "source": [
    "# 2 NHL:\n",
    "\n",
    "# Looking for nhl salaries in the same seasons studied in the NBA:\n",
    "# Obtain the top 3 salaries (we look at 3 not 2 because the same player happened to be the was highest in two seasons)\n",
    "\n",
    "# Web scrape hockeyzoneplus.com for data\n",
    "# This website provides the top 25 salaries from seasons 2003 to 2017:\n",
    "start_year = 2003\n",
    "url_link = 'https://www.hockeyzoneplus.com/top-25/top-25-{}-{}'\n",
    "df_list=[]\n",
    "# Look through urls and pull data:\n",
    "for i in range(3,18):  \n",
    "      url = url_link.format(start_year,start_year+1)\n",
    "      start_year=start_year+1\n",
    "      if (start_year!=2005): #Remove the lockout season 2004-2005 \n",
    "        df_i=pd.read_html(url,header=1)[0]\n",
    "        df_i[\"Year\"] = f'{start_year-1}-{start_year}' # Create new column in dataset to identify the year\n",
    "        df_list.append(df_i) # Append newly created dataframe to a list\n",
    "\n",
    "# Combine all dataframes into one:\n",
    "nhl_player_sal = pd.concat(df_list,sort=False,ignore_index=True)\n",
    "# Select relevent data:\n",
    "nhl_player_sal = nhl_player_sal.loc[:, nhl_player_sal.columns.isin(['Player','NHL Salary ($US)','Year'])]\n",
    "nhl_player_sal.head()"
   ]
  },
  {
   "cell_type": "code",
   "execution_count": 26,
   "metadata": {},
   "outputs": [
    {
     "data": {
      "text/html": [
       "<div>\n",
       "<style scoped>\n",
       "    .dataframe tbody tr th:only-of-type {\n",
       "        vertical-align: middle;\n",
       "    }\n",
       "\n",
       "    .dataframe tbody tr th {\n",
       "        vertical-align: top;\n",
       "    }\n",
       "\n",
       "    .dataframe thead th {\n",
       "        text-align: right;\n",
       "    }\n",
       "</style>\n",
       "<table border=\"1\" class=\"dataframe\">\n",
       "  <thead>\n",
       "    <tr style=\"text-align: right;\">\n",
       "      <th></th>\n",
       "      <th>Player</th>\n",
       "      <th>NHL Salary ($US)</th>\n",
       "      <th>Year</th>\n",
       "    </tr>\n",
       "  </thead>\n",
       "  <tbody>\n",
       "    <tr>\n",
       "      <th>308</th>\n",
       "      <td>Shea Weber</td>\n",
       "      <td>14000000.0</td>\n",
       "      <td>2015-2016</td>\n",
       "    </tr>\n",
       "    <tr>\n",
       "      <th>253</th>\n",
       "      <td>Shea Weber</td>\n",
       "      <td>14000000.0</td>\n",
       "      <td>2013-2014</td>\n",
       "    </tr>\n",
       "    <tr>\n",
       "      <th>338</th>\n",
       "      <td>Anze Kopitar</td>\n",
       "      <td>14000000.0</td>\n",
       "      <td>2016-2017</td>\n",
       "    </tr>\n",
       "  </tbody>\n",
       "</table>\n",
       "</div>"
      ],
      "text/plain": [
       "           Player  NHL Salary ($US)       Year\n",
       "308    Shea Weber        14000000.0  2015-2016\n",
       "253    Shea Weber        14000000.0  2013-2014\n",
       "338  Anze Kopitar        14000000.0  2016-2017"
      ]
     },
     "execution_count": 26,
     "metadata": {},
     "output_type": "execute_result"
    }
   ],
   "source": [
    "# Convert currencies into float to sort and present three highest paid players:\n",
    "nhl_player_sal['NHL Salary ($US)'] = nhl_player_sal['NHL Salary ($US)'].astype(str)\n",
    "nhl_player_sal['NHL Salary ($US)'] = nhl_player_sal['NHL Salary ($US)'].str.replace(',','').str.replace('$', '').astype(float)\n",
    "nhl_player_sal.sort_values(by=['NHL Salary ($US)'],ascending=False).head(3)"
   ]
  },
  {
   "cell_type": "code",
   "execution_count": 27,
   "metadata": {},
   "outputs": [
    {
     "name": "stdout",
     "output_type": "stream",
     "text": [
      "1st highest player salary percentage of the salary cap in the NHL: 15.4%\n",
      "2st highest player salary percentage of the salary cap in the NHL: 15.1%\n"
     ]
    }
   ],
   "source": [
    "# Call salary analysis function previously created and print results for highest paid player:\n",
    "sal_analysis_1(\"NHL\",1,nhl_player_sal['NHL Salary ($US)'][0],71400000) # Cap from https://puckpedia.com/teams\n",
    "\n",
    "# Call salary analysis function previously created and print results for second highest paid player:\n",
    "sal_analysis_1(\"NHL\",2,nhl_player_sal['NHL Salary ($US)'][1],73000000) # Cap from https://puckpedia.com/teams "
   ]
  },
  {
   "cell_type": "markdown",
   "metadata": {},
   "source": [
    "For both the first and second highest salaries, NBA teams are paying 33% and 38% of their salary cap, while NHL team are only paying 15%. "
   ]
  },
  {
   "cell_type": "markdown",
   "metadata": {},
   "source": [
    "### Top 2 Salaries by Team"
   ]
  },
  {
   "cell_type": "markdown",
   "metadata": {},
   "source": [
    "Next, I quired the teams that paid the highest salaries in each sport to examine how the salaries of the top two players on each team compared to the salary cap:"
   ]
  },
  {
   "cell_type": "code",
   "execution_count": 28,
   "metadata": {},
   "outputs": [
    {
     "name": "stdout",
     "output_type": "stream",
     "text": [
      "The nba team that paid the highest salary: Golden State Warriors\n",
      "The corresponding nba season this salary was paid: 2017-2018\n"
     ]
    }
   ],
   "source": [
    "# Use NBA salary data from previous analysis:\n",
    "\n",
    "# 1 NBA:\n",
    "# Calculate the nba that paid the highest salary to a player and output the season that occoured:\n",
    "def max_sal_team_season(team,season):\n",
    "    print('The nba team that paid the highest salary:',team)\n",
    "    print('The corresponding nba season this salary was paid:',season)\n",
    "    return\n",
    "max_sal_team_season(sql_nba_sal_max['Team'][0],sql_nba_sal_max['Year'][0])"
   ]
  },
  {
   "cell_type": "code",
   "execution_count": 29,
   "metadata": {},
   "outputs": [
    {
     "data": {
      "text/html": [
       "<div>\n",
       "<style scoped>\n",
       "    .dataframe tbody tr th:only-of-type {\n",
       "        vertical-align: middle;\n",
       "    }\n",
       "\n",
       "    .dataframe tbody tr th {\n",
       "        vertical-align: top;\n",
       "    }\n",
       "\n",
       "    .dataframe thead th {\n",
       "        text-align: right;\n",
       "    }\n",
       "</style>\n",
       "<table border=\"1\" class=\"dataframe\">\n",
       "  <thead>\n",
       "    <tr style=\"text-align: right;\">\n",
       "      <th></th>\n",
       "      <th>Athlete</th>\n",
       "      <th>Team</th>\n",
       "      <th>Salary</th>\n",
       "      <th>Year</th>\n",
       "    </tr>\n",
       "  </thead>\n",
       "  <tbody>\n",
       "    <tr>\n",
       "      <th>0</th>\n",
       "      <td>Stephen Curry</td>\n",
       "      <td>Golden State Warriors</td>\n",
       "      <td>37457154.0</td>\n",
       "      <td>2017-2018</td>\n",
       "    </tr>\n",
       "    <tr>\n",
       "      <th>1</th>\n",
       "      <td>Klay Thompson</td>\n",
       "      <td>Golden State Warriors</td>\n",
       "      <td>17826150.0</td>\n",
       "      <td>2017-2018</td>\n",
       "    </tr>\n",
       "  </tbody>\n",
       "</table>\n",
       "</div>"
      ],
      "text/plain": [
       "         Athlete                   Team      Salary       Year\n",
       "0  Stephen Curry  Golden State Warriors  37457154.0  2017-2018\n",
       "1  Klay Thompson  Golden State Warriors  17826150.0  2017-2018"
      ]
     },
     "execution_count": 29,
     "metadata": {},
     "output_type": "execute_result"
    }
   ],
   "source": [
    "# Query the salary dataset to obtain the top 2 salaries from this team and year\n",
    "# (Golden State Warriors, 2017-2018)\n",
    "\n",
    "q_nba_sal_top2 = \"\"\"SELECT Player AS Athlete,\n",
    "team AS Team,\n",
    "salary AS Salary,\n",
    "season AS Year\n",
    "FROM nba_player_sal\n",
    "WHERE season<>'2002-2003'\n",
    "AND season<>'2004-2005'\n",
    "AND season<>'2011-2012'\n",
    "AND season<>'2012-2013'\n",
    "AND team='Golden State Warriors'\n",
    "AND season='2017-2018'\n",
    "ORDER BY salary DESC\n",
    "LIMIT 2\n",
    ";\"\"\"\n",
    "sql_nba_sal_top2= pyqldf(q_nba_sal_top2)\n",
    "sql_nba_sal_top2"
   ]
  },
  {
   "cell_type": "code",
   "execution_count": 30,
   "metadata": {},
   "outputs": [
    {
     "name": "stdout",
     "output_type": "stream",
     "text": [
      "The percentage of the salary cap spent on the 2 highest paid players in the NBA: 69.0%\n"
     ]
    }
   ],
   "source": [
    "# Create salary function that calculated the percentage of the cap spent on the team's 2 highest paid players:\n",
    "\n",
    "def sal_analysis_2(league,player_sal,cap):\n",
    "    percent_of_cap=player_sal/cap\n",
    "    print(f'The percentage of the salary cap spent on the 2 highest paid players in the {league}: {round(percent_of_cap*100,1)}%')\n",
    "    return\n",
    "\n",
    "# Call salary analysis function and print results:\n",
    "sal_analysis_2(\"NBA\",sql_nba_sal_max['Salary'][0]+sql_nba_sal_max['Salary'][1],99093000) # Cap from https://basketball.realgm.com/nba/info/salary_cap   "
   ]
  },
  {
   "cell_type": "code",
   "execution_count": 31,
   "metadata": {},
   "outputs": [],
   "source": [
    "#2 NHL:\n",
    "\n",
    "# Needed a new dataset with the salaries of all players in a given season, not just the top 25 scrapped\n",
    "# Data was taken from a train-test dataset for the 2016-17 NHL season, to match the NBA season found previously:\n",
    "nhl_test=pd.read_csv(\"data/nhl_test.csv\",engine='python')\n",
    "nhl_test_sal=pd.read_csv(\"data/nhl_test_salaries.csv\",engine='python')\n",
    "nhl_train=pd.read_csv(\"data/nhl_train.csv\",engine='python')"
   ]
  },
  {
   "cell_type": "code",
   "execution_count": 32,
   "metadata": {},
   "outputs": [
    {
     "data": {
      "text/html": [
       "<div>\n",
       "<style scoped>\n",
       "    .dataframe tbody tr th:only-of-type {\n",
       "        vertical-align: middle;\n",
       "    }\n",
       "\n",
       "    .dataframe tbody tr th {\n",
       "        vertical-align: top;\n",
       "    }\n",
       "\n",
       "    .dataframe thead th {\n",
       "        text-align: right;\n",
       "    }\n",
       "</style>\n",
       "<table border=\"1\" class=\"dataframe\">\n",
       "  <thead>\n",
       "    <tr style=\"text-align: right;\">\n",
       "      <th></th>\n",
       "      <th>Salary</th>\n",
       "      <th>Player</th>\n",
       "      <th>Team</th>\n",
       "    </tr>\n",
       "  </thead>\n",
       "  <tbody>\n",
       "    <tr>\n",
       "      <th>14</th>\n",
       "      <td>14000000.0</td>\n",
       "      <td>Kopitar</td>\n",
       "      <td>L.A</td>\n",
       "    </tr>\n",
       "    <tr>\n",
       "      <th>758</th>\n",
       "      <td>13800000.0</td>\n",
       "      <td>Toews</td>\n",
       "      <td>CHI</td>\n",
       "    </tr>\n",
       "  </tbody>\n",
       "</table>\n",
       "</div>"
      ],
      "text/plain": [
       "         Salary   Player Team\n",
       "14   14000000.0  Kopitar  L.A\n",
       "758  13800000.0    Toews  CHI"
      ]
     },
     "execution_count": 32,
     "metadata": {},
     "output_type": "execute_result"
    }
   ],
   "source": [
    "# Combined test and train data into 1 dataset to query all players salary in this season:\n",
    "\n",
    "# Grab relevent data:\n",
    "nhl_df_1= nhl_test.loc[:, nhl_test.columns.isin(['Last Name','Team'])]\n",
    "nhl_df_1.insert(0,'Salary',nhl_test_sal)\n",
    "\n",
    "nhl_df_2= nhl_train.loc[:, nhl_train.columns.isin(['Last Name','Team','Salary'])]\n",
    "\n",
    "# Combine into 1 dataframe:\n",
    "nhl_player_sal_2017 = pd.concat([nhl_df_1,nhl_df_2],sort=False,ignore_index=True)\n",
    "nhl_player_sal_2017 = nhl_player_sal_2017.rename(columns={'Last Name':'Player'})\n",
    "nhl_player_sal_2017.sort_values(by=['Salary'],ascending=False).head(2)"
   ]
  },
  {
   "cell_type": "code",
   "execution_count": 33,
   "metadata": {},
   "outputs": [
    {
     "name": "stdout",
     "output_type": "stream",
     "text": [
      "The nhl team that paid the highest salary in 2017-2018: L.A\n"
     ]
    }
   ],
   "source": [
    "# Print the nhl that paid the highest salary to a player this season:\n",
    "print('The nhl team that paid the highest salary in 2017-2018:',nhl_player_sal_2017['Team'][0])"
   ]
  },
  {
   "cell_type": "code",
   "execution_count": 34,
   "metadata": {},
   "outputs": [
    {
     "data": {
      "text/html": [
       "<div>\n",
       "<style scoped>\n",
       "    .dataframe tbody tr th:only-of-type {\n",
       "        vertical-align: middle;\n",
       "    }\n",
       "\n",
       "    .dataframe tbody tr th {\n",
       "        vertical-align: top;\n",
       "    }\n",
       "\n",
       "    .dataframe thead th {\n",
       "        text-align: right;\n",
       "    }\n",
       "</style>\n",
       "<table border=\"1\" class=\"dataframe\">\n",
       "  <thead>\n",
       "    <tr style=\"text-align: right;\">\n",
       "      <th></th>\n",
       "      <th>Athlete</th>\n",
       "      <th>Team</th>\n",
       "      <th>Salary</th>\n",
       "    </tr>\n",
       "  </thead>\n",
       "  <tbody>\n",
       "    <tr>\n",
       "      <th>0</th>\n",
       "      <td>Kopitar</td>\n",
       "      <td>L.A</td>\n",
       "      <td>14000000.0</td>\n",
       "    </tr>\n",
       "    <tr>\n",
       "      <th>1</th>\n",
       "      <td>Doughty</td>\n",
       "      <td>L.A</td>\n",
       "      <td>7450000.0</td>\n",
       "    </tr>\n",
       "  </tbody>\n",
       "</table>\n",
       "</div>"
      ],
      "text/plain": [
       "   Athlete Team      Salary\n",
       "0  Kopitar  L.A  14000000.0\n",
       "1  Doughty  L.A   7450000.0"
      ]
     },
     "execution_count": 34,
     "metadata": {},
     "output_type": "execute_result"
    }
   ],
   "source": [
    "# Query the salary dataset to obtain the top 2 salaries from this team\n",
    "# (L.A)\n",
    "\n",
    "q_nhl_sal_top2 = \"\"\"SELECT Player AS Athlete,\n",
    "Team AS Team,\n",
    "Salary AS Salary\n",
    "FROM nhl_player_sal_2017\n",
    "WHERE team='L.A'\n",
    "ORDER BY salary DESC\n",
    "LIMIT 2\n",
    ";\"\"\"\n",
    "sql_nhl_sal_top2= pyqldf(q_nhl_sal_top2)\n",
    "sql_nhl_sal_top2"
   ]
  },
  {
   "cell_type": "code",
   "execution_count": 35,
   "metadata": {},
   "outputs": [
    {
     "name": "stdout",
     "output_type": "stream",
     "text": [
      "The percentage of the salary cap spent on the 2 highest paid players in the NHL: 29.4%\n"
     ]
    }
   ],
   "source": [
    "# Call this salary function previously created\n",
    "# This calculates the percentage of the cap spent on the team's 2 highest paid players:\n",
    "\n",
    "sal_analysis_2(\"NHL\",sql_nhl_sal_top2['Salary'][0]+sql_nhl_sal_top2['Salary'][1],73000000) # Cap from https://puckpedia.com/teams"
   ]
  },
  {
   "cell_type": "markdown",
   "metadata": {},
   "source": [
    "The Golden State Warriors spent 70% on their top 2 most skilled players while the L.A Kings only spent 30%. Why are NBA teams are willing to do this? Because as shown these skilled players are playing a greater percentage of the game as thus have more potential to impact the results. We also know that through many seasons, skill is always more important to a team’s success in the NBA compared to the NHL. Furthermore, an NBA roster can hold 15 players while an NHL roster can hold 23. NBA teams can afford to pay more of the salary cap to a few skilled players because they have fewer roster spots to fill. \n",
    "\n",
    "As shown NBA skilled players play more minutes in a game, which means less skilled players play less. A top-heavy salary NHL team has less ability to distribute the remaining salary to the rest of the roster and as a result would have less skilled players playing more minutes. With less skill, you are relying on a greater contribution of luck to winning results."
   ]
  },
  {
   "cell_type": "markdown",
   "metadata": {},
   "source": [
    "## What changes could the NBA implement that might be the most effective at levelling the playing field?"
   ]
  },
  {
   "cell_type": "markdown",
   "metadata": {},
   "source": [
    "1.\tReduce the number of games in both the regular season and playoffs to increase the variance of luck and thus contribution of luck. The law of large numbers states that the average of the results obtained will become closer to the expected value as the number of trials increase. As the number of games played increases, the variance of luck will decrease. The structure of the NBA playoffs can be specifically targeted to achieve this effect. Currently, NBA championship teams need to win four best-of-7 rounds in which they play a new advancing playoff team each round. The NBA could either reduce the number of rounds or structure the rounds so that each team is required to win less games. The drawback of this solution is reducing the number of games will reduce the league’s revenue.\n",
    "\n",
    "2.\tIntroduce minute restrictions for players to reduce the amount of time the most skilled players can play. This will mean the most skilled players will have to play similar minutes to less skilled players which would reduce the skill variance of teams throughout the league. This will incentivize teams to distribute their salary more evenly throughout their roster and prevent hoarding of skilled players. The drawback is fans want to see the best players play, so this will reduce the NBA’s quality of product.\n",
    "\n",
    "3.\tReduce the market cap for previous winning teams to reduce teams’ ability to structure their rosters with top heavy salaries. For example, all teams that made the playoffs in a given season, could have their salary reduced for the next season proportionate to their record. Teams that didn’t make the playoffs would see the reverse effect to their salary, essentially distributing the salary cap from successful teams to non-successful. The challenge is that the market cap is defined each year, but player contracts can very in length over multiple seasons. \n"
   ]
  }
 ],
 "metadata": {
  "kernelspec": {
   "display_name": "Python 3",
   "language": "python",
   "name": "python3"
  },
  "language_info": {
   "codemirror_mode": {
    "name": "ipython",
    "version": 3
   },
   "file_extension": ".py",
   "mimetype": "text/x-python",
   "name": "python",
   "nbconvert_exporter": "python",
   "pygments_lexer": "ipython3",
   "version": "3.7.3"
  }
 },
 "nbformat": 4,
 "nbformat_minor": 2
}
